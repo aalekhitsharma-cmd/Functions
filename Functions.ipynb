{
  "nbformat": 4,
  "nbformat_minor": 0,
  "metadata": {
    "colab": {
      "provenance": []
    },
    "kernelspec": {
      "name": "python3",
      "display_name": "Python 3"
    },
    "language_info": {
      "name": "python"
    }
  },
  "cells": [
    {
      "cell_type": "markdown",
      "source": [
        "**Functions**"
      ],
      "metadata": {
        "id": "Z2pv1x-2a6ZS"
      }
    },
    {
      "cell_type": "markdown",
      "source": [
        "# **Theory Questions:**"
      ],
      "metadata": {
        "id": "cjooBexkmqP1"
      }
    },
    {
      "cell_type": "markdown",
      "source": [
        "1.What is the difference between a function and a method in Python?\n",
        "\n",
        "  -> Function:\n",
        "\n",
        " A function is a standalone block of reusable code designed to perform a specific task. It is defined independently and can be called directly by its name, potentially with arguments, without requiring an object or class instance. Functions operate on the data provided to them as arguments.\n",
        "\n",
        "->Method:\n",
        "\n",
        "A method is a function that is associated with an object or a class. It is defined within a class and is designed to operate on the data and state of the object to which it belongs. Methods are called on instances of a class (objects) using dot notation (e.g., object.method()). They implicitly receive the object instance as their first argument (conventionally named self), allowing them to access and modify the object's attributes. Methods are a core component of object-oriented programming, enabling encapsulation and defining the behavior of objects."
      ],
      "metadata": {
        "id": "02R99faKa_xx"
      }
    },
    {
      "cell_type": "markdown",
      "source": [
        "2. Explain the concept of function arguments and parameters in Python.\n",
        "\n",
        "   ->In Python, the terms \"parameters\" and \"arguments\" are distinct but closely related concepts within the context of functions.\n",
        "Parameters are the variables defined within the parentheses in a function's definition. They act as placeholders for the values that the function expects to receive when it is called. Parameters are part of the function's signature and determine what kind of input the function can accept.\n",
        "\n",
        "Arguments are the actual values that are passed to a function when it is called. These values are assigned to the corresponding parameters within the function's scope, allowing the function to process specific data during its execution. Arguments can be passed in various ways, including positionally (based on their order) or as keyword arguments (by explicitly naming the parameter they correspond to).\n",
        "\n",
        "In essence, parameters define what a function needs, while arguments provide those needs with concrete values at the time of the function call."
      ],
      "metadata": {
        "id": "tLcJDGJVb_bD"
      }
    },
    {
      "cell_type": "markdown",
      "source": [
        "3. What are the different ways to define and call a function in Python?\n",
        "\n",
        "   -> In Python, functions are defined to encapsulate reusable blocks of code and are called to execute those blocks.\n",
        "Defining a Function:\n",
        "def keyword:\n",
        "\n",
        "Functions are defined using the def keyword, followed by the function name, a set of parentheses, and a colon.\n",
        "Function Name:\n",
        "\n",
        "The function name follows standard Python naming conventions (e.g., lowercase with underscores for multiple words).\n",
        "Parameters (Optional):\n",
        "Input parameters or arguments can be placed within the parentheses, separated by commas. These parameters act as local variables within the function, receiving values when the function is called.\n",
        "Docstring (Optional):\n",
        "The first statement inside the function body can be an optional documentation string (docstring), enclosed in triple quotes, explaining the function's purpose.\n",
        "\n",
        "Indented Code Block:\n",
        "The code block that constitutes the function's body must be indented consistently after the colon.\n",
        "return Statement (Optional):\n",
        "\n",
        "The return statement can be used to exit the function and optionally pass a value back to the caller. If no return statement is present or it's used without an expression, the function implicitly returns None.\n",
        "Calling a Function:\n",
        "Function Name and Parentheses:\n",
        "To execute the code within a function, you call it by its name followed by parentheses.\n",
        "\n",
        "Arguments (if applicable):\n",
        "If the function definition includes parameters, you must provide corresponding arguments (values) within the parentheses when calling the function. These arguments are then assigned to the function's parameters.\n",
        "\n",
        "Execution Flow:\n",
        "When a function is called, the program's execution flow jumps to the function's code block. After the function's code block completes (either by reaching the end or encountering a return statement), the execution flow returns to the point where the function was called."
      ],
      "metadata": {
        "id": "47eD0J0-cpxx"
      }
    },
    {
      "cell_type": "markdown",
      "source": [
        "4. What is the purpose of the `return` statement in a Python function?\n",
        "\n",
        "  ->The return statement in a Python function serves two primary purposes:\n",
        "\n",
        "Exiting the Function:\n",
        "\n",
        "When a return statement is encountered during the execution of a function, it immediately terminates the function's execution. Control is then passed back to the point in the code where the function was called.\n",
        "\n",
        "Returning a Value:\n",
        "\n",
        "The return statement can optionally be followed by a value or an expression. This value is then sent back to the caller of the function. This allows functions to produce results that can be used for further processing, assigned to variables, or incorporated into other operations within the program. If no value is specified after return, or if the return statement is omitted entirely, the function implicitly returns None.\n",
        "\n",
        "In essence, return enables functions to act as self-contained units that perform a specific task and then provide a result back to the larger program, facilitating modularity and data flow."
      ],
      "metadata": {
        "id": "2UjjDM7ldHX8"
      }
    },
    {
      "cell_type": "markdown",
      "source": [
        "5. What are iterators in Python and how do they differ from iterables?\n",
        "\n",
        "   ->In Python, iterators are objects that implement the iterator protocol, which means they must define two methods: __iter__() and __next__(). The __iter__() method returns the iterator object itself, while the __next__() method returns the next item from the sequence. When no more items are available, __next__() raises a StopIteration exception. Iterators maintain an internal state, remembering their position within the sequence during iteration.\n",
        "\n",
        "Iterables, on the other hand, are objects that can be iterated over. They are characterized by having an __iter__() method that returns an iterator, or a __getitem__() method that can be used with sequential integer indices starting from 0. Examples of built-in iterables include lists, tuples, strings, and dictionaries.\n",
        "The key differences between iterators and iterables are:\n",
        "\n",
        "Functionality:\n",
        "\n",
        "An iterable is an object that can be iterated over, while an iterator is an object that performs the iteration by providing the next item in a sequence.\n",
        "\n",
        "Methods:\n",
        "\n",
        "Iterables typically define __iter__() (and sometimes __getitem__()), while iterators must define both __iter__() and __next__().\n",
        "\n",
        "State:\n",
        "\n",
        "Iterators maintain an internal state to track their position during iteration, allowing them to return elements one by one. Iterables do not inherently maintain this state.\n",
        "\n",
        "Relationship:\n",
        "\n",
        "Every iterator is also an iterable (because it defines __iter__()), but not all iterables are iterators. For example, a list is an iterable, but it is not an iterator itself; calling iter() on a list returns a list iterator.\n",
        "In essence, an iterable is the \"container\" of items, and an iterator is the \"mechanism\" that allows you to access those items one at a time."
      ],
      "metadata": {
        "id": "7s7VG2FzdfK-"
      }
    },
    {
      "cell_type": "markdown",
      "source": [
        "6. Explain the concept of generators in Python and how they are defined.\n",
        "\n",
        "    ->Generators in Python are a special type of iterable that allows for the creation of iterators in a memory-efficient manner. They produce values lazily, one at a time, instead of storing all values in memory simultaneously. This makes them ideal for working with large datasets or infinite sequences where loading the entire dataset into memory would be impractical or impossible.\n",
        "\n",
        "How Generators are Defined:\n",
        "\n",
        "Generators are defined using functions that contain the yield keyword instead of return. When a generator function is called, it does not immediately execute the function body. Instead, it returns a generator object (which is a type of iterator).\n",
        "\n",
        "When the next() function is called on this generator object, the generator function executes until it encounters a yield statement. The value provided with yield is returned to the caller, and the generator's state (including local variables and execution point) is paused. When next() is called again, the function resumes execution from where it left off, continuing until the next yield or until the function finishes."
      ],
      "metadata": {
        "id": "DHliVcYce4SN"
      }
    },
    {
      "cell_type": "markdown",
      "source": [
        "7. What are the advantages of using generators over regular functions?\n",
        "\n",
        "    ->Generators offer several advantages over regular functions, particularly when dealing with sequences of data:\n",
        "\n",
        "Memory Efficiency:\n",
        "\n",
        "Generators produce values on-the-fly, yielding one item at a time instead of constructing and storing an entire list or sequence in memory. This makes them significantly more memory-efficient, especially when working with large datasets or potentially infinite sequences.\n",
        "\n",
        "Lazy Evaluation:\n",
        "\n",
        "Values are computed and yielded only when requested. This \"lazy\" approach saves processing time and CPU cycles by avoiding the need to generate and store all elements upfront, leading to improved performance.\n",
        "\n",
        "Handling Infinite Sequences:\n",
        "\n",
        "Generators can represent infinite sequences (e.g., Fibonacci numbers) because they only need to generate the next value when requested, without requiring the entire sequence to be stored.\n",
        "\n",
        "Composability and Data Pipelines:\n",
        "\n",
        "Generators can be easily chained together to create powerful and efficient data processing pipelines. This allows for modular and reusable code, enhancing readability and maintainability.\n",
        "\n",
        "Stream Processing:\n",
        "\n",
        "Generators are well-suited for processing data streams or remote data, as they can handle data as it arrives, without needing to load the entire source into memory."
      ],
      "metadata": {
        "id": "kqATQV_6f2Ek"
      }
    },
    {
      "cell_type": "markdown",
      "source": [
        "8. What is a lambda function in Python and when is it typically used?\n",
        "\n",
        "    ->A lambda function in Python is a small, anonymous function defined using the lambda keyword. Unlike regular functions defined with def, lambda functions do not have a name and are restricted to a single expression. They can take any number of arguments but can only have one expression, which is implicitly returned.\n",
        "Syntax:\n",
        "Python\n",
        "\n",
        "lambda arguments: expression\n",
        "Typical Use Cases:\n",
        "Lambda functions are typically used in situations where a small, simple function is needed for a short period, often as an argument to higher-order functions.\n",
        "Higher-Order Functions: They are frequently used with functions like map(), filter(), and sorted(), which take another function as an argument.\n",
        "map(): To apply a transformation to each item in an iterable.\n",
        "Python\n",
        "\n",
        "        numbers = [1, 2, 3, 4]\n",
        "        squared_numbers = list(map(lambda x: x**2, numbers))\n",
        "        # squared_numbers will be [1, 4, 9, 16]\n",
        "filter(): To select elements from an iterable based on a condition.\n",
        "Python\n",
        "\n",
        "        numbers = [1, 2, 3, 4, 5, 6]\n",
        "        even_numbers = list(filter(lambda x: x % 2 == 0, numbers))\n",
        "        # even_numbers will be [2, 4, 6]\n",
        "sorted(): To define a custom sorting key.\n",
        "Python\n",
        "\n",
        "        data = [('apple', 5), ('banana', 2), ('cherry', 8)]\n",
        "        sorted_data = sorted(data, key=lambda item: item[1])\n",
        "        # sorted_data will be [('banana', 2), ('apple', 5), ('cherry', 8)]\n",
        "Conciseness and Readability for Simple Operations:\n",
        "When a function is very simple and used only once, a lambda can make the code more concise and readable by defining the functionality directly where it's needed, rather than requiring a separate def function.\n",
        "Event Handling (GUI Programming):\n",
        "In some GUI frameworks, lambda functions can be used to define simple callback functions for events."
      ],
      "metadata": {
        "id": "0pUx54KVgMjA"
      }
    },
    {
      "cell_type": "markdown",
      "source": [
        "8. What is a lambda function in Python and when is it typically used?\n",
        "\n",
        "    ->A lambda function in Python is a small, anonymous function defined using the lambda keyword. Unlike regular functions defined with def, lambda functions do not have a name and are restricted to a single expression. They can take any number of arguments but can only have one expression, which is implicitly returned.\n",
        "Syntax:\n",
        "Python\n",
        "\n",
        "lambda arguments: expression\n",
        "Typical Use Cases:\n",
        "Lambda functions are typically used in situations where a small, simple function is needed for a short period, often as an argument to higher-order functions.\n",
        "Higher-Order Functions: They are frequently used with functions like map(), filter(), and sorted(), which take another function as an argument.\n",
        "map(): To apply a transformation to each item in an iterable.\n",
        "Python\n",
        "\n",
        "        numbers = [1, 2, 3, 4]\n",
        "        squared_numbers = list(map(lambda x: x**2, numbers))\n",
        "        # squared_numbers will be [1, 4, 9, 16]\n",
        "filter(): To select elements from an iterable based on a condition.\n",
        "Python\n",
        "\n",
        "        numbers = [1, 2, 3, 4, 5, 6]\n",
        "        even_numbers = list(filter(lambda x: x % 2 == 0, numbers))\n",
        "        # even_numbers will be [2, 4, 6]\n",
        "sorted(): To define a custom sorting key.\n",
        "Python\n",
        "\n",
        "        data = [('apple', 5), ('banana', 2), ('cherry', 8)]\n",
        "        sorted_data = sorted(data, key=lambda item: item[1])\n",
        "        # sorted_data will be [('banana', 2), ('apple', 5), ('cherry', 8)]\n",
        "Conciseness and Readability for Simple Operations:\n",
        "When a function is very simple and used only once, a lambda can make the code more concise and readable by defining the functionality directly where it's needed, rather than requiring a separate def function.\n",
        "Event Handling (GUI Programming):\n",
        "In some GUI frameworks, lambda functions can be used to define simple callback functions for events."
      ],
      "metadata": {
        "id": "8Ue4jURGgjda"
      }
    },
    {
      "cell_type": "markdown",
      "source": [
        "9. Explain the purpose and usage of the `map()` function in Python\n",
        "\n",
        "    -> The map() function in Python is a built-in higher-order function used to apply a specified function to each item in an iterable (such as a list, tuple, or set), returning an iterator of the results.\n",
        "\n",
        "Purpose:\n",
        "\n",
        "Efficient Transformation:\n",
        "It provides an efficient way to apply a transformation or operation to every element within a collection without explicitly writing a loop.\n",
        "Conciseness:\n",
        "It enables writing more concise and readable code, especially when dealing with simple transformations.\n",
        "Functional Programming:\n",
        "It aligns with functional programming paradigms by focusing on applying functions to data.\n",
        "\n",
        "Usage:\n",
        "\n",
        "The syntax for map() is map(function, iterable).\n",
        "function: The function to be applied to each item of the iterable. This can be a regular function or a lambda function for inline operations.\n",
        "iterable: The sequence (e.g., list, tuple, string) whose elements will be passed to the function.\n",
        "\n",
        "The map() function returns a map object, which is an iterator. To view the results, this object typically needs to be converted into a list, tuple, or other desired collection type using functions like list(), tuple(), etc."
      ],
      "metadata": {
        "id": "H6FG1bnVh26b"
      }
    },
    {
      "cell_type": "markdown",
      "source": [
        "10. What is the difference between `map()`, `reduce()`, and `filter()` functions in Python?\n",
        "    \n",
        "     The map(), reduce(), and filter() functions in Python are all higher-order functions that operate on iterables, but they serve distinct purposes:\n",
        "map():\n",
        "Purpose: Applies a given function to each item in an iterable and returns an iterator that yields the results.\n",
        "Output: A new iterable (map object) of the same length as the input, containing the transformed elements.\n",
        "Analogy: Transforming each item individually, like doubling every number in a list.\n",
        "Python\n",
        "\n",
        "    numbers = [1, 2, 3, 4]\n",
        "    squared_numbers = list(map(lambda x: x * x, numbers))\n",
        "    # squared_numbers will be [1, 4, 9, 16]\n",
        "filter():\n",
        "Purpose: Constructs an iterator from elements of an iterable for which a function returns True.\n",
        "Output: A new iterable (filter object) containing only the elements that satisfy the given condition. The length of the output may be less than or equal to the input.\n",
        "Analogy: Selecting items based on a condition, like picking only even numbers from a list.\n",
        "Python\n",
        "\n",
        "    numbers = [1, 2, 3, 4, 5]\n",
        "    even_numbers = list(filter(lambda x: x % 2 == 0, numbers))\n",
        "    # even_numbers will be [2, 4]\n",
        "reduce():\n",
        "Purpose: Applies a function of two arguments cumulatively to the items of an iterable, from left to right, so as to reduce the iterable to a single value.\n",
        "Output: A single value.\n",
        "Note: reduce() is not a built-in function in Python 3 and needs to be imported from the functools module.\n",
        "Analogy: Aggregating items into a single result, like summing all numbers in a list.\n",
        "Python\n",
        "\n",
        "    from functools import reduce\n",
        "\n",
        "    numbers = [1, 2, 3, 4]\n",
        "    sum_of_numbers = reduce(lambda x, y: x + y, numbers)\n",
        "    # sum_of_numbers will be 10->"
      ],
      "metadata": {
        "id": "SoraqvGQirr0"
      }
    },
    {
      "cell_type": "markdown",
      "source": [
        "11. Using pen & Paper write the internal mechanism for sum operation using  reduce function on this given\n",
        "list:[47,11,42,13];\n",
        "\n",
        "    -> The internal mechanism of the reduce function for a sum operation on the list [47, 11, 42, 13] can be illustrated step-by-step as follows:\n",
        "\n",
        "Initialization:\n",
        "\n",
        "The reduce function starts with an accumulator (the running total) and processes the list elements one by one. If an initializer is provided, the accumulator starts with that value. If not, the accumulator is initialized with the first element of the list, and the processing begins with the second element. For a sum operation without an explicit initializer, the accumulator begins as 47.\n",
        "\n",
        "First Iteration:\n",
        "\n",
        "The reduce function takes the current accumulator value (47) and the next element from the list (11).\n",
        "It applies the sum operation (addition) to these two values: 47 + 11 = 58.\n",
        "The result (58) becomes the new accumulator value.\n",
        "\n",
        "Second Iteration:\n",
        "\n",
        "The reduce function takes the current accumulator value (58) and the next element from the list (42).\n",
        "It applies the sum operation: 58 + 42 = 100.\n",
        "The result (100) becomes the new accumulator value.\n",
        "\n",
        "Third Iteration:\n",
        "\n",
        "The reduce function takes the current accumulator value (100) and the next element from the list (13).\n",
        "It applies the sum operation: 100 + 13 = 113.\n",
        "The result (113) becomes the new accumulator value.\n",
        "\n",
        "Final Result:\n",
        "\n",
        "Since there are no more elements in the list, the reduce function returns the final accumulator value, which is 113.\n",
        "![image.png](data:image/png;base64,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)"
      ],
      "metadata": {
        "id": "HeIKKnDXkq0V"
      }
    },
    {
      "cell_type": "markdown",
      "source": [
        "# ***Practical Questions:***"
      ],
      "metadata": {
        "id": "N2m2YNdCm6CO"
      }
    },
    {
      "cell_type": "code",
      "source": [
        "# 1. Write a Python function that takes a list of numbers as input and returns the sum of all even numbers in the list.\n",
        "numbers = [1, 2, 3, 4, 5, 6, 7, 8, 9, 10]\n",
        "print(sum_even_numbers(numbers))"
      ],
      "metadata": {
        "colab": {
          "base_uri": "https://localhost:8080/"
        },
        "id": "v6D44OGpnDk8",
        "outputId": "6ff06ce9-f4e6-4e07-da21-855eb5056e28"
      },
      "execution_count": 6,
      "outputs": [
        {
          "output_type": "stream",
          "name": "stdout",
          "text": [
            "30\n"
          ]
        }
      ]
    },
    {
      "cell_type": "code",
      "source": [
        "# 2. Create a Python function that accepts a string and returns the reverse of that string.\n",
        "def reverse_string(s):\n",
        "  return s[::-1]\n",
        "\n",
        "print(reverse_string(\"Hello World\"))"
      ],
      "metadata": {
        "colab": {
          "base_uri": "https://localhost:8080/"
        },
        "id": "0Y-ugD5rnPSz",
        "outputId": "1f90c05c-18f9-4a9c-b385-a30de6ed28b5"
      },
      "execution_count": 8,
      "outputs": [
        {
          "output_type": "stream",
          "name": "stdout",
          "text": [
            "dlroW olleH\n"
          ]
        }
      ]
    },
    {
      "cell_type": "code",
      "source": [
        "#3. Implement a Python function that takes a list of integers and returns a new list containing the squares of each number.\n",
        "def square_numbers(numbers):\n",
        "  return [x**2 for x in numbers]\n",
        "\n",
        "print(square_numbers([1, 2, 3, 4, 5]))"
      ],
      "metadata": {
        "colab": {
          "base_uri": "https://localhost:8080/"
        },
        "id": "X9Ltoe6Onxfg",
        "outputId": "c87adc06-33b6-4212-d217-34330dce83f3"
      },
      "execution_count": 9,
      "outputs": [
        {
          "output_type": "stream",
          "name": "stdout",
          "text": [
            "[1, 4, 9, 16, 25]\n"
          ]
        }
      ]
    },
    {
      "cell_type": "code",
      "source": [
        "#4. Write a Python function that checks if a given number is prime or not from 1 to 200.\n",
        "import math\n",
        "\n",
        "def is_prime(number):\n",
        "\n",
        "    if number <= 1:\n",
        "        return False\n",
        "\n",
        "\n",
        "    for i in range(2, int(math.sqrt(number)) + 1):\n",
        "        if number % i == 0:\n",
        "            return False\n",
        "    return True\n",
        "\n",
        "\n",
        "print(\"Prime numbers between 1 and 200:\")\n",
        "for num in range(1, 201):\n",
        "    if is_prime(num):\n",
        "        print(num)\n"
      ],
      "metadata": {
        "colab": {
          "base_uri": "https://localhost:8080/"
        },
        "id": "C1CTKOszoBVr",
        "outputId": "7632eb88-e0f8-4a78-ee82-d77dac1842c2"
      },
      "execution_count": 10,
      "outputs": [
        {
          "output_type": "stream",
          "name": "stdout",
          "text": [
            "Prime numbers between 1 and 200:\n",
            "2\n",
            "3\n",
            "5\n",
            "7\n",
            "11\n",
            "13\n",
            "17\n",
            "19\n",
            "23\n",
            "29\n",
            "31\n",
            "37\n",
            "41\n",
            "43\n",
            "47\n",
            "53\n",
            "59\n",
            "61\n",
            "67\n",
            "71\n",
            "73\n",
            "79\n",
            "83\n",
            "89\n",
            "97\n",
            "101\n",
            "103\n",
            "107\n",
            "109\n",
            "113\n",
            "127\n",
            "131\n",
            "137\n",
            "139\n",
            "149\n",
            "151\n",
            "157\n",
            "163\n",
            "167\n",
            "173\n",
            "179\n",
            "181\n",
            "191\n",
            "193\n",
            "197\n",
            "199\n"
          ]
        }
      ]
    },
    {
      "cell_type": "code",
      "source": [
        "#5. Create an iterator class in Python that generates the Fibonacci sequence up to a specified number of terms.\n",
        "class FibonacciIterator:\n",
        "    \"\"\"\n",
        "    An iterator class that generates the Fibonacci sequence up to a specified number of terms.\n",
        "    \"\"\"\n",
        "    def __init__(self, num_terms):\n",
        "        if not isinstance(num_terms, int) or num_terms < 0:\n",
        "            raise ValueError(\"Number of terms must be a non-negative integer.\")\n",
        "        self.num_terms = num_terms\n",
        "        self.a = 0\n",
        "        self.b = 1\n",
        "        self.count = 0\n",
        "\n",
        "    def __iter__(self):\n",
        "        return self\n",
        "\n",
        "    def __next__(self):\n",
        "        if self.count < self.num_terms:\n",
        "            if self.count == 0:\n",
        "                self.count += 1\n",
        "                return self.a\n",
        "            elif self.count == 1:\n",
        "                self.count += 1\n",
        "                return self.b\n",
        "            else:\n",
        "                next_fib = self.a + self.b\n",
        "                self.a = self.b\n",
        "                self.b = next_fib\n",
        "                self.count += 1\n",
        "                return next_fib\n",
        "        else:\n",
        "            raise StopIteration\n",
        "\n",
        "\n",
        "if __name__ == \"__main__\":\n",
        "    fib_gen = FibonacciIterator(10)\n",
        "    print(\"Fibonacci sequence up to 10 terms:\")\n",
        "    for num in fib_gen:\n",
        "        print(num, end=\" \")\n",
        "    print(\"\\n\")\n",
        "\n",
        "    fib_gen_five = FibonacciIterator(5)\n",
        "    print(\"Fibonacci sequence up to 5 terms:\")\n",
        "    for num in fib_gen_five:\n",
        "        print(num, end=\" \")\n",
        "    print(\"\\n\")\n",
        "\n",
        "    fib_gen_zero = FibonacciIterator(0)\n",
        "    print(\"Fibonacci sequence up to 0 terms:\")\n",
        "    for num in fib_gen_zero:\n",
        "        print(num, end=\" \")\n",
        "    print(\"\\n\")\n",
        "\n",
        "    try:\n",
        "        fib_gen_negative = FibonacciIterator(-3)\n",
        "    except ValueError as e:\n",
        "        print(f\"Error: {e}\")"
      ],
      "metadata": {
        "colab": {
          "base_uri": "https://localhost:8080/"
        },
        "id": "j8ZjRJpvoWCG",
        "outputId": "0734ee40-fc4d-4e45-cabd-1ff608f1e6a0"
      },
      "execution_count": 11,
      "outputs": [
        {
          "output_type": "stream",
          "name": "stdout",
          "text": [
            "Fibonacci sequence up to 10 terms:\n",
            "0 1 1 2 3 5 8 13 21 34 \n",
            "\n",
            "Fibonacci sequence up to 5 terms:\n",
            "0 1 1 2 3 \n",
            "\n",
            "Fibonacci sequence up to 0 terms:\n",
            "\n",
            "\n",
            "Error: Number of terms must be a non-negative integer.\n"
          ]
        }
      ]
    },
    {
      "cell_type": "code",
      "source": [
        "#6. Write a generator function in Python that yields the powers of 2 up to a given exponent.\n",
        "def power_of_two(exponent):\n",
        "\n",
        "    for i in range(exponent + 1):\n",
        "        yield 2**i\n",
        "\n",
        "for power in power_of_two(5):\n",
        "    print(power)"
      ],
      "metadata": {
        "colab": {
          "base_uri": "https://localhost:8080/"
        },
        "id": "pnfAe-iDoz-6",
        "outputId": "a1595522-ac2c-47ed-8619-de7c64c167e6"
      },
      "execution_count": 15,
      "outputs": [
        {
          "output_type": "stream",
          "name": "stdout",
          "text": [
            "1\n",
            "2\n",
            "4\n",
            "8\n",
            "16\n",
            "32\n"
          ]
        }
      ]
    },
    {
      "cell_type": "code",
      "source": [
        "#7. Implement a generator function that reads a file line by line and yields each line as a string.\n",
        "def read_file_line_by_line(file_path):\n",
        "\n",
        "    try:\n",
        "        with open(file_path, 'r', encoding='utf-8') as file:\n",
        "            for line in file:\n",
        "                yield line.strip()  # Yield each line, stripping whitespace\n",
        "    except FileNotFoundError:\n",
        "        print(f\"Error: The file '{file_path}' was not found.\")\n",
        "    except Exception as e:\n",
        "        print(f\"An error occurred while reading the file: {e}\")\n",
        "\n",
        "\n",
        "if __name__ == \"__main__\":\n",
        "\n",
        "    print(\"Writing to sample.txt:\")\n",
        "    with open(\"sample.txt\", \"w\") as f:\n",
        "        f.write(\"First line.\\n\")\n",
        "        f.write(\"Second line with some spaces.\\n\")\n",
        "        f.write(\"Third line.\\n\")\n",
        "\n",
        "    print(\"Reading file line by line:\")\n",
        "    for line in read_file_line_by_line(\"sample.txt\"):\n",
        "        print(line)\n",
        "\n",
        "    print(\"\\nAttempting to read a non-existent file:\")\n",
        "    for line in read_file_line_by_line(\"non_existent_file.txt\"):\n",
        "        print(line)"
      ],
      "metadata": {
        "colab": {
          "base_uri": "https://localhost:8080/"
        },
        "id": "z1DqxBW8o4NM",
        "outputId": "dd42a371-a84f-49f3-a521-33af1d2dfe87"
      },
      "execution_count": 18,
      "outputs": [
        {
          "output_type": "stream",
          "name": "stdout",
          "text": [
            "Writing to sample.txt:\n",
            "Reading file line by line:\n",
            "First line.\n",
            "Second line with some spaces.\n",
            "Third line.\n",
            "\n",
            "Attempting to read a non-existent file:\n",
            "Error: The file 'non_existent_file.txt' was not found.\n"
          ]
        }
      ]
    },
    {
      "cell_type": "code",
      "source": [
        "#8. Use a lambda function in Python to sort a list of tuples based on the second element of each tuple.\n",
        "data = [('apple', 3), ('banana', 1), ('cherry', 2)]\n",
        "sorted_data = sorted(data, key=lambda x: x[1])\n",
        "print(sorted_data)\n",
        "\n"
      ],
      "metadata": {
        "colab": {
          "base_uri": "https://localhost:8080/"
        },
        "id": "A9PUCocWpKIl",
        "outputId": "a6dfa7ce-ddac-45be-b567-c8d1bf378877"
      },
      "execution_count": 19,
      "outputs": [
        {
          "output_type": "stream",
          "name": "stdout",
          "text": [
            "[('banana', 1), ('cherry', 2), ('apple', 3)]\n"
          ]
        }
      ]
    },
    {
      "cell_type": "code",
      "source": [
        "#9. Write a Python program that uses `map()` to convert a list of temperatures from Celsius to Fahrenheit.\n",
        "celsius_temperatures = [0, 10, 20, 30, 40]\n",
        "fahrenheit_temperatures = list(map(lambda c: (c * 9/5) + 32, celsius_temperatures))\n",
        "print(fahrenheit_temperatures)"
      ],
      "metadata": {
        "colab": {
          "base_uri": "https://localhost:8080/"
        },
        "id": "YG9Mtuw5qNcv",
        "outputId": "7bec0dad-8fb4-4f3f-f527-fe779b417267"
      },
      "execution_count": 23,
      "outputs": [
        {
          "output_type": "stream",
          "name": "stdout",
          "text": [
            "[32.0, 50.0, 68.0, 86.0, 104.0]\n"
          ]
        }
      ]
    },
    {
      "cell_type": "code",
      "source": [
        "#10. Create a Python program that uses `filter()` to remove all the vowels from a given string\n",
        "\n",
        "def is_not_vowel(character):\n",
        "\n",
        "    vowels = \"aeiouAEIOU\"\n",
        "    return character not in vowels\n",
        "\n",
        "def remove_vowels(input_string):\n",
        "\n",
        "\n",
        "    filtered_characters = filter(is_not_vowel, input_string)\n",
        "\n",
        "    new_string = \"\".join(filtered_characters)\n",
        "\n",
        "    return new_string\n",
        "\n",
        "\n",
        "original_string = \"The quick brown fox jumps over the lazy dog\"\n",
        "result_string = remove_vowels(original_string)\n",
        "\n",
        "\n",
        "print(f\"Original string: {original_string}\")\n",
        "print(f\"String with vowels removed: {result_string}\")\n",
        "\n",
        "another_string = \"Hello World! This is a test.\"\n",
        "print(f\"\\nOriginal string: {another_string}\")\n",
        "print(f\"String with vowels removed: {remove_vowels(another_string)}\")\n"
      ],
      "metadata": {
        "colab": {
          "base_uri": "https://localhost:8080/"
        },
        "id": "bBJWStdnqSM-",
        "outputId": "787a0b07-fb70-4154-e18e-47cdea5cc0e3"
      },
      "execution_count": 24,
      "outputs": [
        {
          "output_type": "stream",
          "name": "stdout",
          "text": [
            "Original string: The quick brown fox jumps over the lazy dog\n",
            "String with vowels removed: Th qck brwn fx jmps vr th lzy dg\n",
            "\n",
            "Original string: Hello World! This is a test.\n",
            "String with vowels removed: Hll Wrld! Ths s  tst.\n"
          ]
        }
      ]
    },
    {
      "cell_type": "code",
      "metadata": {
        "colab": {
          "base_uri": "https://localhost:8080/"
        },
        "id": "e606aff2",
        "outputId": "a6f049ec-95bb-4d19-ff36-035a08955d76"
      },
      "source": [
        "# 11) Imagine an accounting routine used in a book shop. It works on a list with sublists, which look like this:\n",
        "# [ [6,'pens',3.10], [1,'book',10.90], [2,'erasers',2.50] ]\n",
        "\n",
        "def calculate_inventory_value(inventory):\n",
        "    \"\"\"\n",
        "    Calculates the total value of the inventory.\n",
        "\n",
        "    Args:\n",
        "        inventory: A list of sublists, where each sublist contains [quantity, item_name, price].\n",
        "\n",
        "    Returns:\n",
        "        The total value of the inventory.\n",
        "    \"\"\"\n",
        "    total_value = 0\n",
        "    for item in inventory:\n",
        "        quantity = item[0]\n",
        "        price = item[2]\n",
        "        total_value += quantity * price\n",
        "    return total_value\n",
        "\n",
        "\n",
        "book_shop_inventory = [\n",
        "    [6, 'pens', 3.10],\n",
        "    [1, 'book', 10.90],\n",
        "    [2, 'erasers', 2.50]\n",
        "]\n",
        "\n",
        "total_inventory_value = calculate_inventory_value(book_shop_inventory)\n",
        "print(f\"The total value of the book shop inventory is: ${total_inventory_value:.2f}\")"
      ],
      "execution_count": 27,
      "outputs": [
        {
          "output_type": "stream",
          "name": "stdout",
          "text": [
            "The total value of the book shop inventory is: $34.50\n"
          ]
        }
      ]
    }
  ]
}